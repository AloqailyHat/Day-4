{
  "cells": [
    {
      "cell_type": "markdown",
      "metadata": {
        "id": "E9Y5ss1ZYj3r"
      },
      "source": [
        "# Python_Lab_2.2\n"
      ]
    },
    {
      "cell_type": "markdown",
      "metadata": {
        "id": "Q1kAqc72Yj3t"
      },
      "source": [
        "### Task 1\n",
        "1. Write a program that prompts the user to enter two numbers and prints their division. Handle cases where the user enters non-numeric values or attempts to divide by zero using a try-except block.\n"
      ]
    },
    {
      "cell_type": "code",
      "execution_count": 6,
      "metadata": {
        "id": "H-xyoRTVYj3t",
        "colab": {
          "base_uri": "https://localhost:8080/",
          "height": 327
        },
        "outputId": "918a73f3-5e18-4d2c-ad10-7698e32c2860"
      },
      "outputs": [
        {
          "name": "stdout",
          "output_type": "stream",
          "text": [
            "Enter two numbers: 3/4\n"
          ]
        },
        {
          "output_type": "error",
          "ename": "ValueError",
          "evalue": "invalid literal for int() with base 10: '3/4'",
          "traceback": [
            "\u001b[0;31m---------------------------------------------------------------------------\u001b[0m",
            "\u001b[0;31mValueError\u001b[0m                                Traceback (most recent call last)",
            "\u001b[0;32m<ipython-input-6-f30c21696208>\u001b[0m in \u001b[0;36m<cell line: 13>\u001b[0;34m()\u001b[0m\n\u001b[1;32m     11\u001b[0m \u001b[0;34m\u001b[0m\u001b[0m\n\u001b[1;32m     12\u001b[0m \u001b[0;34m\u001b[0m\u001b[0m\n\u001b[0;32m---> 13\u001b[0;31m \u001b[0mdivisionByZero\u001b[0m\u001b[0;34m(\u001b[0m\u001b[0;34m)\u001b[0m\u001b[0;34m\u001b[0m\u001b[0;34m\u001b[0m\u001b[0m\n\u001b[0m",
            "\u001b[0;32m<ipython-input-6-f30c21696208>\u001b[0m in \u001b[0;36mdivisionByZero\u001b[0;34m()\u001b[0m\n\u001b[1;32m      3\u001b[0m   \u001b[0;32mtry\u001b[0m\u001b[0;34m:\u001b[0m\u001b[0;34m\u001b[0m\u001b[0;34m\u001b[0m\u001b[0m\n\u001b[1;32m      4\u001b[0m     \u001b[0mnums\u001b[0m \u001b[0;34m=\u001b[0m \u001b[0minput\u001b[0m\u001b[0;34m(\u001b[0m\u001b[0;34m'Enter two numbers: '\u001b[0m\u001b[0;34m)\u001b[0m\u001b[0;34m.\u001b[0m\u001b[0msplit\u001b[0m\u001b[0;34m(\u001b[0m\u001b[0;34m)\u001b[0m\u001b[0;34m\u001b[0m\u001b[0;34m\u001b[0m\u001b[0m\n\u001b[0;32m----> 5\u001b[0;31m     \u001b[0mnum1\u001b[0m \u001b[0;34m=\u001b[0m \u001b[0mint\u001b[0m\u001b[0;34m(\u001b[0m\u001b[0mnums\u001b[0m\u001b[0;34m[\u001b[0m\u001b[0;36m0\u001b[0m\u001b[0;34m]\u001b[0m\u001b[0;34m)\u001b[0m\u001b[0;34m\u001b[0m\u001b[0;34m\u001b[0m\u001b[0m\n\u001b[0m\u001b[1;32m      6\u001b[0m     \u001b[0mnum2\u001b[0m \u001b[0;34m=\u001b[0m \u001b[0mint\u001b[0m\u001b[0;34m(\u001b[0m\u001b[0mnums\u001b[0m\u001b[0;34m[\u001b[0m\u001b[0;36m1\u001b[0m\u001b[0;34m]\u001b[0m\u001b[0;34m)\u001b[0m\u001b[0;34m\u001b[0m\u001b[0;34m\u001b[0m\u001b[0m\n\u001b[1;32m      7\u001b[0m     \u001b[0mresult\u001b[0m \u001b[0;34m=\u001b[0m \u001b[0mnum1\u001b[0m \u001b[0;34m/\u001b[0m \u001b[0mnum2\u001b[0m\u001b[0;34m\u001b[0m\u001b[0;34m\u001b[0m\u001b[0m\n",
            "\u001b[0;31mValueError\u001b[0m: invalid literal for int() with base 10: '3/4'"
          ]
        }
      ],
      "source": [
        "# write your code here ^_^\n",
        "def divisionByZero():\n",
        "  try:\n",
        "    nums = input('Enter two numbers: ').split()\n",
        "    num1 = float(nums[0])\n",
        "    num2 = float(nums[1])\n",
        "    result = num1 / num2\n",
        "    print(result)\n",
        "  except ZeroDivisionError:\n",
        "    print('do not divide by zero')\n",
        "\n",
        "\n",
        "divisionByZero()\n"
      ]
    },
    {
      "cell_type": "markdown",
      "metadata": {
        "id": "CPWcDSC_Yj3u"
      },
      "source": [
        "### Task 2\n",
        "- Use \"Random\" library to do the following:\n",
        "    1. Create a list of random numbers using list comprehension.\n",
        "    2. Create a list of squares of the even numbers from random numbers using list comprehension.\n",
        "    3. Create a list of tuples (number, square) for random numbers using list comprehension."
      ]
    },
    {
      "cell_type": "code",
      "execution_count": 11,
      "metadata": {
        "id": "Yfq-i6CeYj3u",
        "colab": {
          "base_uri": "https://localhost:8080/"
        },
        "outputId": "5f59e643-2908-41bc-c847-1b20bb5aaf42"
      },
      "outputs": [
        {
          "output_type": "stream",
          "name": "stdout",
          "text": [
            "[10, 2, 15, 19, 19, 3, 15, 9, 10, 18]\n",
            "[100, 4, 100, 324]\n",
            "[(10, 100), (2, 4), (15, 225), (19, 361), (19, 361), (3, 9), (15, 225), (9, 81), (10, 100), (18, 324)]\n"
          ]
        }
      ],
      "source": [
        "# write your code here ^_^\n",
        "import random\n",
        "##### 1 #####\n",
        "ran_nums = [random.randint(1,20) for i in range(10)]\n",
        "print(ran_nums)\n",
        "\n",
        "##### 2 #####\n",
        "even_sqr = [num**2 for num in ran_nums if num % 2 ==0]\n",
        "print(even_sqr)\n",
        "\n",
        "##### 3 #####\n",
        "tup = [(num , num**2) for num in ran_nums]\n",
        "print(tup)\n",
        "\n"
      ]
    },
    {
      "cell_type": "markdown",
      "metadata": {
        "id": "jYdOq46NYj3u"
      },
      "source": [
        "### Task 3\n",
        "- Create a dictionary where the keys are numbers from 1 to 5 and the values are list of their squares and cubes.\n",
        "\n",
        "  - **hint**: use dictionary of list comprehension.\n",
        "\n",
        "- Create a dictionary from two lists (one with keys and one with values) using dictionary comprehension.\n",
        "\n"
      ]
    },
    {
      "cell_type": "code",
      "execution_count": 17,
      "metadata": {
        "id": "IEnsiNmCYj3u",
        "colab": {
          "base_uri": "https://localhost:8080/"
        },
        "outputId": "87530438-4534-4622-f4c6-9ac75dc6d8d4"
      },
      "outputs": [
        {
          "output_type": "stream",
          "name": "stdout",
          "text": [
            "{1: 1, 2: 8, 3: 27, 4: 64, 5: 125}\n",
            "<function dic at 0x7d409f277880>\n"
          ]
        }
      ],
      "source": [
        "# write your code here ^_^\n",
        "##### 1 #####\n",
        "dic = { i: i**2 and i**3 for i in range(1, 6)}\n",
        "print(dic)\n",
        "\n",
        "##### 2 #####\n",
        "def dic(x, y):\n",
        "  dic2 = { i: i for i in x }\n",
        "  return dic2\n",
        "\n",
        "x = [1, 2, 3, 4, 5]\n",
        "y = [9, 8, 7, 6, 0]\n",
        "dic(x, y)\n",
        "print(dic)"
      ]
    },
    {
      "cell_type": "markdown",
      "metadata": {
        "id": "6T9TCQ8SYj3v"
      },
      "source": [
        "### Task 4\n",
        "- Given a dictionary where keys are student names and values are lists of their scores, write a function that updates the scores of students who have achieved a perfect score (100) by adding a bonus of 5 points to each score. Use dictionary comprehension to achieve this.\n",
        "\n",
        "    - Implement the function add_bonus_to_perfect_scores(student_scores) that adds a bonus of 5 points to each score of students who have achieved a perfect score (100)."
      ]
    },
    {
      "cell_type": "code",
      "execution_count": 19,
      "metadata": {
        "id": "T3R_VsQpYj3v",
        "colab": {
          "base_uri": "https://localhost:8080/",
          "height": 309
        },
        "outputId": "0c0d6bdb-dc25-4877-aa18-21e920921ac4"
      },
      "outputs": [
        {
          "output_type": "error",
          "ename": "AttributeError",
          "evalue": "'int' object has no attribute 'items'",
          "traceback": [
            "\u001b[0;31m---------------------------------------------------------------------------\u001b[0m",
            "\u001b[0;31mAttributeError\u001b[0m                            Traceback (most recent call last)",
            "\u001b[0;32m<ipython-input-19-d4cac9fc25f6>\u001b[0m in \u001b[0;36m<cell line: 6>\u001b[0;34m()\u001b[0m\n\u001b[1;32m      4\u001b[0m   \u001b[0;32mreturn\u001b[0m \u001b[0;34m{\u001b[0m\u001b[0mk\u001b[0m\u001b[0;34m:\u001b[0m \u001b[0mv\u001b[0m \u001b[0;34m+\u001b[0m \u001b[0;36m5\u001b[0m \u001b[0;32mif\u001b[0m \u001b[0mv\u001b[0m \u001b[0;34m==\u001b[0m \u001b[0;36m100\u001b[0m \u001b[0;32melse\u001b[0m \u001b[0mv\u001b[0m \u001b[0;32mfor\u001b[0m \u001b[0mk\u001b[0m\u001b[0;34m,\u001b[0m \u001b[0mv\u001b[0m \u001b[0;32min\u001b[0m \u001b[0mstudent_scores\u001b[0m\u001b[0;34m.\u001b[0m\u001b[0mitems\u001b[0m\u001b[0;34m(\u001b[0m\u001b[0;34m)\u001b[0m\u001b[0;34m}\u001b[0m\u001b[0;34m\u001b[0m\u001b[0;34m\u001b[0m\u001b[0m\n\u001b[1;32m      5\u001b[0m \u001b[0;34m\u001b[0m\u001b[0m\n\u001b[0;32m----> 6\u001b[0;31m \u001b[0madd_bonus_to_perfect_scores\u001b[0m\u001b[0;34m(\u001b[0m\u001b[0;36m70\u001b[0m\u001b[0;34m)\u001b[0m\u001b[0;34m\u001b[0m\u001b[0;34m\u001b[0m\u001b[0m\n\u001b[0m",
            "\u001b[0;32m<ipython-input-19-d4cac9fc25f6>\u001b[0m in \u001b[0;36madd_bonus_to_perfect_scores\u001b[0;34m(student_scores)\u001b[0m\n\u001b[1;32m      2\u001b[0m \u001b[0;34m\u001b[0m\u001b[0m\n\u001b[1;32m      3\u001b[0m \u001b[0;32mdef\u001b[0m \u001b[0madd_bonus_to_perfect_scores\u001b[0m\u001b[0;34m(\u001b[0m\u001b[0mstudent_scores\u001b[0m\u001b[0;34m)\u001b[0m\u001b[0;34m:\u001b[0m\u001b[0;34m\u001b[0m\u001b[0;34m\u001b[0m\u001b[0m\n\u001b[0;32m----> 4\u001b[0;31m   \u001b[0;32mreturn\u001b[0m \u001b[0;34m{\u001b[0m\u001b[0mk\u001b[0m\u001b[0;34m:\u001b[0m \u001b[0mv\u001b[0m \u001b[0;34m+\u001b[0m \u001b[0;36m5\u001b[0m \u001b[0;32mif\u001b[0m \u001b[0mv\u001b[0m \u001b[0;34m==\u001b[0m \u001b[0;36m100\u001b[0m \u001b[0;32melse\u001b[0m \u001b[0mv\u001b[0m \u001b[0;32mfor\u001b[0m \u001b[0mk\u001b[0m\u001b[0;34m,\u001b[0m \u001b[0mv\u001b[0m \u001b[0;32min\u001b[0m \u001b[0mstudent_scores\u001b[0m\u001b[0;34m.\u001b[0m\u001b[0mitems\u001b[0m\u001b[0;34m(\u001b[0m\u001b[0;34m)\u001b[0m\u001b[0;34m}\u001b[0m\u001b[0;34m\u001b[0m\u001b[0;34m\u001b[0m\u001b[0m\n\u001b[0m\u001b[1;32m      5\u001b[0m \u001b[0;34m\u001b[0m\u001b[0m\n\u001b[1;32m      6\u001b[0m \u001b[0madd_bonus_to_perfect_scores\u001b[0m\u001b[0;34m(\u001b[0m\u001b[0;36m70\u001b[0m\u001b[0;34m)\u001b[0m\u001b[0;34m\u001b[0m\u001b[0;34m\u001b[0m\u001b[0m\n",
            "\u001b[0;31mAttributeError\u001b[0m: 'int' object has no attribute 'items'"
          ]
        }
      ],
      "source": [
        "# write your code here ^_^\n",
        "\n",
        "def add_bonus_to_perfect_scores(student_scores):\n",
        "  return {k: v + 5 if v == 100 else v for k, v in student_scores.items() }\n",
        "\n",
        "add_bonus_to_perfect_scores(70)"
      ]
    },
    {
      "cell_type": "markdown",
      "metadata": {
        "id": "rJkOEFAwYj3v"
      },
      "source": []
    }
  ],
  "metadata": {
    "kernelspec": {
      "display_name": "Python 3",
      "language": "python",
      "name": "python3"
    },
    "language_info": {
      "codemirror_mode": {
        "name": "ipython",
        "version": 3
      },
      "file_extension": ".py",
      "mimetype": "text/x-python",
      "name": "python",
      "nbconvert_exporter": "python",
      "pygments_lexer": "ipython3",
      "version": "3.9.12"
    },
    "colab": {
      "provenance": []
    }
  },
  "nbformat": 4,
  "nbformat_minor": 0
}