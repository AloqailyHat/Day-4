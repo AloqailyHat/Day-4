{
  "cells": [
    {
      "cell_type": "markdown",
      "metadata": {
        "id": "x7F-mxeubDUG"
      },
      "source": [
        "# Python_Lab_2.1\n"
      ]
    },
    {
      "cell_type": "markdown",
      "metadata": {
        "id": "14c6Hn1BbDUH"
      },
      "source": [
        "### Task 1\n",
        "1. Write a function named is_prime that takes a number as a parameter and returns True if the number is prime and False otherwise. Print whether the number 29 is prime."
      ]
    },
    {
      "cell_type": "code",
      "execution_count": 7,
      "metadata": {
        "id": "5e_MZEN0bDUI",
        "colab": {
          "base_uri": "https://localhost:8080/"
        },
        "outputId": "c2a48221-ee92-45d3-d7f6-1cf86a0ce072"
      },
      "outputs": [
        {
          "output_type": "stream",
          "name": "stdout",
          "text": [
            "('It is a prime:', True)\n"
          ]
        }
      ],
      "source": [
        "# write your code here ^_^\n",
        "def is_prime(number):\n",
        "  if number < 2:\n",
        "    return False\n",
        "\n",
        "  for i in range(2, number):\n",
        "    if number % i == 0:\n",
        "      return False\n",
        "    else:\n",
        "      return 'It is a prime:', True\n",
        "\n",
        "print(is_prime(29))"
      ]
    },
    {
      "cell_type": "markdown",
      "metadata": {
        "id": "2zKG8ZcybDUI"
      },
      "source": [
        "### Task 2\n",
        "1. Create a list of 10 numbers and sort them in descending order using the sort() function.\n",
        "2. Use the len() function to print the length of the sorted list.\n",
        "3. Use the zip() function to combine three lists (names, ages, and cities) into a list of tuples.\n",
        "4. Use the range() function to create a list of even numbers from 2 to 20 and print the list."
      ]
    },
    {
      "cell_type": "code",
      "execution_count": 6,
      "metadata": {
        "id": "yyoe__M_bDUI",
        "colab": {
          "base_uri": "https://localhost:8080/"
        },
        "outputId": "d9f5ff40-db81-4c58-a068-d5fd94f86402"
      },
      "outputs": [
        {
          "output_type": "stream",
          "name": "stdout",
          "text": [
            "[200, 90, 76, 54, 44, 39, 32, 21, 20, 9]\n",
            "10\n",
            "[('hatoon', 12, 'Qassim'), ('fatemah', 33, 'Madinah'), ('norah', 44, 'Jeddah')]\n",
            "[2, 4, 6, 8, 10, 12, 14, 16, 18]\n"
          ]
        }
      ],
      "source": [
        "# write your code here ^_^\n",
        "###### 1 ######\n",
        "lst = [20, 44, 90, 32, 21, 39, 54, 9, 76, 200]\n",
        "lst.sort(reverse= True)\n",
        "print(lst)\n",
        "\n",
        "###### 2 ######\n",
        "print(len(lst))\n",
        "\n",
        "###### 3 ######\n",
        "names = ['hatoon', 'fatemah', 'norah']\n",
        "ages = [12, 33, 44]\n",
        "cities = ['Qassim', 'Madinah', 'Jeddah']\n",
        "\n",
        "lsts_merge = list(zip(names, ages, cities))\n",
        "print(lsts_merge)\n",
        "\n",
        "###### 4 ######\n",
        "even_num = list(range(2, 20, 2))\n",
        "print(even_num)\n"
      ]
    },
    {
      "cell_type": "markdown",
      "metadata": {
        "id": "aStW5p7AbDUI"
      },
      "source": [
        "### Task 3\n",
        "Build a phone book program that receives the phone number, and returns the name of the owner.\n",
        "You can follow the table below:\n",
        "\n",
        "| Name     | Number     |\n",
        "| -------- | ---------- |\n",
        "| Amal     | 1111111111 |\n",
        "| Mohammed | 2222222222 |\n",
        "| Khadijah | 3333333333 |\n",
        "| Abdullah | 4444444444 |\n",
        "| Rawan    | 5555555555 |\n",
        "| Faisal   | 6666666666 |\n",
        "| Layla    | 7777777777 |\n",
        "\n",
        "- If the number exists, print the owner. Otherwise, print \"Sorry, the number is not found\".\n",
        "- If the number is less or more than 10 numbers, print \"This is invalid number\".\n",
        "- If the number contains letters or symbols, print \"This is invalid number\".\n"
      ]
    },
    {
      "cell_type": "code",
      "execution_count": 25,
      "metadata": {
        "id": "kvXmjUe-bDUJ",
        "colab": {
          "base_uri": "https://localhost:8080/"
        },
        "outputId": "4b90434d-1f48-49fe-d067-3c2af96f1083"
      },
      "outputs": [
        {
          "output_type": "stream",
          "name": "stdout",
          "text": [
            "Sorry, the number is not found.\n",
            "Sorry, the number is not found.\n",
            "Sorry, the number is not found.\n",
            "Sorry, the number is not found.\n",
            "Sorry, the number is not found.\n",
            "Faisal\n",
            "Sorry, the number is not found.\n"
          ]
        }
      ],
      "source": [
        "# write your code here ^_^\n",
        "def prog(number):\n",
        "  phone_program = {\n",
        "    'Amal': 1111111111,\n",
        "    'Mohammed': 2222222222,\n",
        "    'Khadijah': 3333333333,\n",
        "    'Abdullah': 4444444444,\n",
        "    'Rawan': 5555555555,\n",
        "    'Faisal':6666666666,\n",
        "    'Layla': 7777777777\n",
        "    }\n",
        "  for k, v in phone_program.items():\n",
        "    if number ==v:\n",
        "      print(k)\n",
        "    else:\n",
        "      print('Sorry, the number is not found.')\n",
        "\n",
        "    if number < 10 | number > 10:\n",
        "      print('This is invalid number.')\n",
        "\n",
        "    if number == str:\n",
        "      print('This is invalid number.')\n",
        "\n",
        "prog(6666666666)\n",
        "\n"
      ]
    },
    {
      "cell_type": "markdown",
      "metadata": {
        "id": "exLHQ28nbDUJ"
      },
      "source": [
        "### Task 4\n",
        "- Given the following list : [5, 4, 17, 19, 30, 2, 7, 10, 45]\n",
        "    1. Use a lambda function to filter out only the odd numbers.\n",
        "    2. Print the new list of odd numbers."
      ]
    },
    {
      "cell_type": "code",
      "execution_count": 9,
      "metadata": {
        "id": "64SUsh1cbDUJ",
        "colab": {
          "base_uri": "https://localhost:8080/"
        },
        "outputId": "cc5bc67b-0386-4bde-9594-af4e5744d70d"
      },
      "outputs": [
        {
          "output_type": "stream",
          "name": "stdout",
          "text": [
            "[19, 30, 2, 7, 10]\n"
          ]
        }
      ],
      "source": [
        "# write your code here ^_^\n",
        "lst = [5, 4, 17, 19, 30, 2, 7, 10, 45]\n",
        "\n",
        "odd_num = list(filter(lambda x: x & 2 != 0, lst))\n",
        "print(odd_num)\n"
      ]
    }
  ],
  "metadata": {
    "kernelspec": {
      "display_name": "Python 3",
      "language": "python",
      "name": "python3"
    },
    "language_info": {
      "codemirror_mode": {
        "name": "ipython",
        "version": 3
      },
      "file_extension": ".py",
      "mimetype": "text/x-python",
      "name": "python",
      "nbconvert_exporter": "python",
      "pygments_lexer": "ipython3",
      "version": "3.9.12"
    },
    "colab": {
      "provenance": []
    }
  },
  "nbformat": 4,
  "nbformat_minor": 0
}